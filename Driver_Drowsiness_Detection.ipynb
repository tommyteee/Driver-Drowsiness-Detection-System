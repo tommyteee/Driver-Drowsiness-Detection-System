{
 "cells": [
  {
   "cell_type": "markdown",
   "id": "b450e76d",
   "metadata": {},
   "source": [
    "# Importing the Required Libraries"
   ]
  },
  {
   "cell_type": "code",
   "execution_count": null,
   "id": "54d531a5",
   "metadata": {},
   "outputs": [],
   "source": [
    "import cv2\n",
    "import numpy as np\n",
    "import dlib\n",
    "from imutils import face_utils\n",
    "from pygame import mixer"
   ]
  },
  {
   "cell_type": "markdown",
   "id": "d581a670",
   "metadata": {},
   "source": [
    "# Importing the Sound file"
   ]
  },
  {
   "cell_type": "code",
   "execution_count": null,
   "id": "2482a648",
   "metadata": {},
   "outputs": [],
   "source": [
    "mixer.init()\n",
    "sound = mixer.Sound('alarm.wav')"
   ]
  },
  {
   "cell_type": "markdown",
   "id": "7bc572bc",
   "metadata": {},
   "source": [
    "# Initializing the camera and taking the instance"
   ]
  },
  {
   "cell_type": "code",
   "execution_count": null,
   "id": "aa1262bf",
   "metadata": {},
   "outputs": [],
   "source": [
    "cap = cv2.VideoCapture(0)"
   ]
  },
  {
   "cell_type": "markdown",
   "id": "9c197858",
   "metadata": {},
   "source": [
    "# Initializing the face detector and landmark detector and Imporitng the shape_predictor_68_face_landmarks.dat file"
   ]
  },
  {
   "cell_type": "code",
   "execution_count": null,
   "id": "21f38092",
   "metadata": {},
   "outputs": [],
   "source": [
    "detector = dlib.get_frontal_face_detector()\n",
    "predictor = dlib.shape_predictor(r\"C:\\Data\\Amity\\NTCC Sem 5\\DriverDrowsinessDetectionSystem\n",
    "                                 \\shape_predictor_68_face_landmarks.dat\")"
   ]
  },
  {
   "cell_type": "markdown",
   "id": "340897dc",
   "metadata": {},
   "source": [
    "# Status marking for current state  "
   ]
  },
  {
   "cell_type": "code",
   "execution_count": null,
   "id": "4e715079",
   "metadata": {},
   "outputs": [],
   "source": [
    "sleep = 0\n",
    "drowsy = 0\n",
    "active = 0\n",
    "status=\"\"\n",
    "color=(0,0,0)"
   ]
  },
  {
   "cell_type": "markdown",
   "id": "d552f11d",
   "metadata": {},
   "source": [
    "# Calculating Distance bw PtA and PtB"
   ]
  },
  {
   "cell_type": "code",
   "execution_count": null,
   "id": "ee7fd548",
   "metadata": {},
   "outputs": [],
   "source": [
    "def compute (ptA, ptB):\n",
    "    dist = np.linalg.norm(ptA - ptB)\n",
    "    return dist"
   ]
  },
  {
   "cell_type": "markdown",
   "id": "ed67b761",
   "metadata": {},
   "source": [
    "# Calculating the blink ratio"
   ]
  },
  {
   "cell_type": "code",
   "execution_count": null,
   "id": "62d65bd9",
   "metadata": {},
   "outputs": [],
   "source": [
    "def blinked(a, b, c, d, e, f):\n",
    "    up = compute(b, d) + compute(c, e)\n",
    "    down = compute(a, f)\n",
    "    ratio = up/(2.0 * down)"
   ]
  },
  {
   "cell_type": "markdown",
   "id": "29907c5b",
   "metadata": {},
   "source": [
    "# Checking if it blinked"
   ]
  },
  {
   "cell_type": "code",
   "execution_count": null,
   "id": "73a7262a",
   "metadata": {},
   "outputs": [],
   "source": [
    "    if (ratio>0.25):\n",
    "        return 2\n",
    "    elif (ratio > 0.21 and ratio <= 0.25):\n",
    "        return 1\n",
    "    else:\n",
    "        return 0"
   ]
  },
  {
   "cell_type": "code",
   "execution_count": null,
   "id": "e054653b",
   "metadata": {},
   "outputs": [],
   "source": [
    "while True:\n",
    "    _,frame = cap.read()\n",
    "    gray = cv2.cvtColor(frame, cv2.COLOR_BGR2GRAY)\n",
    "    faces = detector(gray)"
   ]
  },
  {
   "cell_type": "markdown",
   "id": "ad6db7db",
   "metadata": {},
   "source": [
    "# Detect face in faces array"
   ]
  },
  {
   "cell_type": "code",
   "execution_count": null,
   "id": "f2f13bfd",
   "metadata": {},
   "outputs": [],
   "source": [
    "    for face in faces:\n",
    "        x1 = face.left()\n",
    "        y1 = face.top()\n",
    "        x2 = face.right()\n",
    "        y2 = face.bottom()\n",
    "\n",
    "        face_frame = frame.copy()\n",
    "        cv2.rectangle(face_frame, (x1,y1), (x2,y2), (0, 255, 0), 2)\n",
    "        landmarks = predictor(gray, face)\n",
    "        landmarks = face_utils.shape_to_np(landmarks)"
   ]
  },
  {
   "cell_type": "markdown",
   "id": "c6c8d5a1",
   "metadata": {},
   "source": [
    "# Numbers are landmarks which will show eye"
   ]
  },
  {
   "cell_type": "code",
   "execution_count": null,
   "id": "c059a385",
   "metadata": {},
   "outputs": [],
   "source": [
    "        left_blink = blinked(landmarks[36], landmarks[37], landmarks[38], landmarks[40], landmarks[41], landmarks[39])\n",
    "        right_blink = blinked(landmarks[42], landmarks[43], landmarks[44], landmarks[47], landmarks[46], landmarks[45])"
   ]
  },
  {
   "cell_type": "markdown",
   "id": "91d89cdc",
   "metadata": {},
   "source": [
    "# Now judge what to do for eye blinks"
   ]
  },
  {
   "cell_type": "markdown",
   "id": "02d63674",
   "metadata": {},
   "source": [
    "For Sleepy"
   ]
  },
  {
   "cell_type": "code",
   "execution_count": null,
   "id": "f5a1765b",
   "metadata": {},
   "outputs": [],
   "source": [
    "        if(left_blink==0 or right_blink==0):\n",
    "                    sleep+=1\n",
    "                    drowsy = 0\n",
    "                    active = 0\n",
    "                    if (sleep>6):\n",
    "                        status = \"SLEEPING!!\"\n",
    "                        color = (255, 0, 0)\n",
    "                        try:\n",
    "                            sound.play()\n",
    "                        except:\n",
    "                            pass"
   ]
  },
  {
   "cell_type": "markdown",
   "id": "e5b22b44",
   "metadata": {},
   "source": [
    "For Drowsy"
   ]
  },
  {
   "cell_type": "code",
   "execution_count": null,
   "id": "2d4b0fb3",
   "metadata": {},
   "outputs": [],
   "source": [
    "        elif (left_blink==1 or right_blink==1):\n",
    "                    sleep = 0\n",
    "                    active = 0\n",
    "                    drowsy+=1\n",
    "                    if(drowsy>6):\n",
    "                        status =  \"DROWSY!\"\n",
    "                        color = (0,0,255)"
   ]
  },
  {
   "cell_type": "markdown",
   "id": "7e11764e",
   "metadata": {},
   "source": [
    "For Active"
   ]
  },
  {
   "cell_type": "code",
   "execution_count": null,
   "id": "a6a4b06d",
   "metadata": {},
   "outputs": [],
   "source": [
    "        else:\n",
    "            drowsy = 0\n",
    "            sleep = 0\n",
    "            active+=1\n",
    "            if(active>6):\n",
    "                status = \"ACTIVE\"\n",
    "                color= (0,255,0)"
   ]
  },
  {
   "cell_type": "markdown",
   "id": "d5ea2b08",
   "metadata": {},
   "source": [
    "# Making the Frames"
   ]
  },
  {
   "cell_type": "code",
   "execution_count": null,
   "id": "13c46463",
   "metadata": {},
   "outputs": [],
   "source": [
    "        cv2.putText(frame,status,(100,100),cv2.FONT_HERSHEY_SIMPLEX,1.2,color,3)\n",
    "\n",
    "        for n in range(0,68):\n",
    "            (x,y) = landmarks[n]\n",
    "            cv2.circle(face_frame, (x,y), 1, (255,255,255), -1)\n",
    "\n",
    "    cv2.imshow(\"Frame\",frame)\n",
    "    cv2.imshow(\"Result\", face_frame)\n",
    "    key = cv2.waitKey(1)\n",
    "    if key == 27:\n",
    "        break"
   ]
  }
 ],
 "metadata": {
  "kernelspec": {
   "display_name": "Python 3 (ipykernel)",
   "language": "python",
   "name": "python3"
  },
  "language_info": {
   "codemirror_mode": {
    "name": "ipython",
    "version": 3
   },
   "file_extension": ".py",
   "mimetype": "text/x-python",
   "name": "python",
   "nbconvert_exporter": "python",
   "pygments_lexer": "ipython3",
   "version": "3.9.12"
  }
 },
 "nbformat": 4,
 "nbformat_minor": 5
}
